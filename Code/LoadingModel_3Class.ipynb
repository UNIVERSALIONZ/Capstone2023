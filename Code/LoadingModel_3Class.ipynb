{
 "cells": [
  {
   "cell_type": "code",
   "execution_count": 1,
   "id": "a20eee89",
   "metadata": {},
   "outputs": [],
   "source": [
    "import pandas as pd\n",
    "from sklearn.linear_model import LogisticRegression\n",
    "from sklearn.svm import SVC\n",
    "from sklearn.ensemble import RandomForestClassifier\n",
    "from sklearn.ensemble import GradientBoostingClassifier\n",
    "from sklearn.pipeline import Pipeline\n",
    "from sklearn.model_selection import GridSearchCV\n",
    "from sklearn.model_selection import train_test_split\n",
    "from sklearn.tree import DecisionTreeClassifier\n",
    "from sklearn.naive_bayes import MultinomialNB\n",
    "from sklearn.neighbors import KNeighborsClassifier\n",
    "from sklearn.metrics import *\n",
    "from sklearn.neural_network import MLPClassifier\n",
    "from sklearn.model_selection import RepeatedKFold\n",
    "from joblib import dump, load\n",
    "from sklearn.metrics import confusion_matrix\n",
    "import numpy as np"
   ]
  },
  {
   "cell_type": "code",
   "execution_count": 2,
   "id": "c59223c6",
   "metadata": {},
   "outputs": [
    {
     "name": "stderr",
     "output_type": "stream",
     "text": [
      "C:\\Users\\nakul\\anaconda3\\envs\\env_capstone\\Lib\\site-packages\\sklearn\\base.py:318: UserWarning: Trying to unpickle estimator GridSearchCV from version 1.2.1 when using version 1.2.2. This might lead to breaking code or invalid results. Use at your own risk. For more info please refer to:\n",
      "https://scikit-learn.org/stable/model_persistence.html#security-maintainability-limitations\n",
      "  warnings.warn(\n"
     ]
    }
   ],
   "source": [
    "grid_search_mlp = load('XGB_3Class.joblib') "
   ]
  },
  {
   "cell_type": "code",
   "execution_count": 3,
   "id": "93247bac",
   "metadata": {},
   "outputs": [
    {
     "data": {
      "text/html": [
       "<div>\n",
       "<style scoped>\n",
       "    .dataframe tbody tr th:only-of-type {\n",
       "        vertical-align: middle;\n",
       "    }\n",
       "\n",
       "    .dataframe tbody tr th {\n",
       "        vertical-align: top;\n",
       "    }\n",
       "\n",
       "    .dataframe thead th {\n",
       "        text-align: right;\n",
       "    }\n",
       "</style>\n",
       "<table border=\"1\" class=\"dataframe\">\n",
       "  <thead>\n",
       "    <tr style=\"text-align: right;\">\n",
       "      <th></th>\n",
       "      <th>pdb</th>\n",
       "      <th>Hbond</th>\n",
       "      <th>Hphob</th>\n",
       "      <th>consurf</th>\n",
       "      <th>asa</th>\n",
       "      <th>Electron-ion interaction potential</th>\n",
       "      <th>Hydrophobicity</th>\n",
       "      <th>Number of electrostatic charge</th>\n",
       "      <th>Number of potential hydrogen bonds</th>\n",
       "      <th>Hydrophilicity</th>\n",
       "      <th>Propensity</th>\n",
       "      <th>Isoelectric points</th>\n",
       "      <th>2-class</th>\n",
       "      <th>3-class</th>\n",
       "    </tr>\n",
       "  </thead>\n",
       "  <tbody>\n",
       "    <tr>\n",
       "      <th>0</th>\n",
       "      <td>1a4y</td>\n",
       "      <td>1</td>\n",
       "      <td>0</td>\n",
       "      <td>6</td>\n",
       "      <td>0.360</td>\n",
       "      <td>0.0959</td>\n",
       "      <td>-1.76</td>\n",
       "      <td>1</td>\n",
       "      <td>4</td>\n",
       "      <td>-0.5</td>\n",
       "      <td>0.27</td>\n",
       "      <td>5.405</td>\n",
       "      <td>1</td>\n",
       "      <td>2</td>\n",
       "    </tr>\n",
       "    <tr>\n",
       "      <th>1</th>\n",
       "      <td>1a4y</td>\n",
       "      <td>2</td>\n",
       "      <td>0</td>\n",
       "      <td>5</td>\n",
       "      <td>0.994</td>\n",
       "      <td>0.0242</td>\n",
       "      <td>-0.40</td>\n",
       "      <td>0</td>\n",
       "      <td>4</td>\n",
       "      <td>-0.5</td>\n",
       "      <td>0.41</td>\n",
       "      <td>5.565</td>\n",
       "      <td>0</td>\n",
       "      <td>0</td>\n",
       "    </tr>\n",
       "    <tr>\n",
       "      <th>2</th>\n",
       "      <td>1a4y</td>\n",
       "      <td>3</td>\n",
       "      <td>0</td>\n",
       "      <td>7</td>\n",
       "      <td>0.173</td>\n",
       "      <td>0.0761</td>\n",
       "      <td>-0.69</td>\n",
       "      <td>0</td>\n",
       "      <td>4</td>\n",
       "      <td>0.2</td>\n",
       "      <td>-0.11</td>\n",
       "      <td>5.650</td>\n",
       "      <td>0</td>\n",
       "      <td>0</td>\n",
       "    </tr>\n",
       "    <tr>\n",
       "      <th>3</th>\n",
       "      <td>1a4y</td>\n",
       "      <td>1</td>\n",
       "      <td>0</td>\n",
       "      <td>3</td>\n",
       "      <td>0.501</td>\n",
       "      <td>0.0959</td>\n",
       "      <td>-1.76</td>\n",
       "      <td>1</td>\n",
       "      <td>4</td>\n",
       "      <td>-0.5</td>\n",
       "      <td>0.27</td>\n",
       "      <td>5.405</td>\n",
       "      <td>0</td>\n",
       "      <td>0</td>\n",
       "    </tr>\n",
       "    <tr>\n",
       "      <th>4</th>\n",
       "      <td>1a4y</td>\n",
       "      <td>4</td>\n",
       "      <td>0</td>\n",
       "      <td>8</td>\n",
       "      <td>0.690</td>\n",
       "      <td>0.0959</td>\n",
       "      <td>-1.76</td>\n",
       "      <td>1</td>\n",
       "      <td>4</td>\n",
       "      <td>-0.5</td>\n",
       "      <td>0.27</td>\n",
       "      <td>5.405</td>\n",
       "      <td>0</td>\n",
       "      <td>0</td>\n",
       "    </tr>\n",
       "  </tbody>\n",
       "</table>\n",
       "</div>"
      ],
      "text/plain": [
       "    pdb  Hbond  Hphob  consurf    asa  Electron-ion interaction potential  \\\n",
       "0  1a4y      1      0        6  0.360                              0.0959   \n",
       "1  1a4y      2      0        5  0.994                              0.0242   \n",
       "2  1a4y      3      0        7  0.173                              0.0761   \n",
       "3  1a4y      1      0        3  0.501                              0.0959   \n",
       "4  1a4y      4      0        8  0.690                              0.0959   \n",
       "\n",
       "   Hydrophobicity  Number of electrostatic charge  \\\n",
       "0           -1.76                               1   \n",
       "1           -0.40                               0   \n",
       "2           -0.69                               0   \n",
       "3           -1.76                               1   \n",
       "4           -1.76                               1   \n",
       "\n",
       "   Number of potential hydrogen bonds  Hydrophilicity  Propensity  \\\n",
       "0                                   4            -0.5        0.27   \n",
       "1                                   4            -0.5        0.41   \n",
       "2                                   4             0.2       -0.11   \n",
       "3                                   4            -0.5        0.27   \n",
       "4                                   4            -0.5        0.27   \n",
       "\n",
       "   Isoelectric points  2-class  3-class  \n",
       "0               5.405        1        2  \n",
       "1               5.565        0        0  \n",
       "2               5.650        0        0  \n",
       "3               5.405        0        0  \n",
       "4               5.405        0        0  "
      ]
     },
     "execution_count": 3,
     "metadata": {},
     "output_type": "execute_result"
    }
   ],
   "source": [
    "test = pd.read_excel('Test Set 20.xlsx')\n",
    "test.head()"
   ]
  },
  {
   "cell_type": "code",
   "execution_count": 4,
   "id": "46e07f5b",
   "metadata": {},
   "outputs": [],
   "source": [
    "X_test = test.iloc[:, 1:12]"
   ]
  },
  {
   "cell_type": "code",
   "execution_count": 5,
   "id": "cfc4ad4d",
   "metadata": {},
   "outputs": [],
   "source": [
    "y_test  = test['3-class']"
   ]
  },
  {
   "cell_type": "code",
   "execution_count": 6,
   "id": "1e933698",
   "metadata": {},
   "outputs": [],
   "source": [
    "y_pred =grid_search_mlp.predict(X_test)"
   ]
  },
  {
   "cell_type": "code",
   "execution_count": 7,
   "id": "ebe72477",
   "metadata": {
    "scrolled": true
   },
   "outputs": [
    {
     "data": {
      "text/plain": [
       "array([[80,  2, 12],\n",
       "       [13,  0,  7],\n",
       "       [23,  2, 23]], dtype=int64)"
      ]
     },
     "execution_count": 7,
     "metadata": {},
     "output_type": "execute_result"
    }
   ],
   "source": [
    "cm1 = confusion_matrix(y_test,y_pred)\n",
    "cm1"
   ]
  },
  {
   "cell_type": "code",
   "execution_count": 8,
   "id": "b6443ed6",
   "metadata": {},
   "outputs": [
    {
     "name": "stdout",
     "output_type": "stream",
     "text": [
      "[0.85106383 0.         0.47916667]\n",
      "[0.68965517 0.         0.54761905]\n"
     ]
    }
   ],
   "source": [
    "precision = np.diagonal(cm1)/np.sum(cm1, axis = 0)\n",
    "sen_recall = np.diagonal(cm1)/np.sum(cm1, axis = 1)\n",
    "acc = accuracy_score(y_test,y_pred)\n",
    "f1 = f1_score(y_test, y_pred, average='weighted')\n",
    "#mcc = matthews_corrcoef(y_test, y_pred)\n",
    "#auc = roc_auc_score(y_test, y_pred, average='weighted')\n",
    "#specificity =  cm1[1,1]/(cm1[0,1]+cm1[1,1])\n",
    "print((sen_recall))\n",
    "print((precision))"
   ]
  },
  {
   "cell_type": "code",
   "execution_count": 9,
   "id": "93ac2a5b",
   "metadata": {
    "scrolled": false
   },
   "outputs": [
    {
     "name": "stdout",
     "output_type": "stream",
     "text": [
      "0.5935332157554379\n"
     ]
    }
   ],
   "source": [
    "#print(precision)\n",
    "\n",
    "#print(sen_recall)\n",
    "\n",
    "#print(acc)\n",
    "\n",
    "print(f1)\n",
    "\n",
    "#print(mcc)\n",
    "\n",
    "#print(auc)\n",
    "\n",
    "#print(specificity)\n"
   ]
  },
  {
   "cell_type": "code",
   "execution_count": 10,
   "id": "e0018166",
   "metadata": {},
   "outputs": [
    {
     "data": {
      "text/plain": [
       "0.761904761904762"
      ]
     },
     "execution_count": 10,
     "metadata": {},
     "output_type": "execute_result"
    }
   ],
   "source": [
    "firstclass = (2*(sen_recall[0]\n",
    "*precision[0]))/((sen_recall[0]\n",
    "+precision[0]))\n",
    "firstclass"
   ]
  },
  {
   "cell_type": "code",
   "execution_count": 11,
   "id": "227906ec",
   "metadata": {},
   "outputs": [
    {
     "name": "stderr",
     "output_type": "stream",
     "text": [
      "C:\\temp\\ipykernel_2252\\4219704323.py:1: RuntimeWarning: invalid value encountered in scalar divide\n",
      "  secclass = (2*(sen_recall[1]\n"
     ]
    },
    {
     "data": {
      "text/plain": [
       "nan"
      ]
     },
     "execution_count": 11,
     "metadata": {},
     "output_type": "execute_result"
    }
   ],
   "source": [
    "secclass = (2*(sen_recall[1]\n",
    "*precision[1]))/((sen_recall[1]\n",
    "+precision[1]))\n",
    "secclass"
   ]
  },
  {
   "cell_type": "code",
   "execution_count": 12,
   "id": "2b65703b",
   "metadata": {},
   "outputs": [
    {
     "data": {
      "text/plain": [
       "0.5111111111111111"
      ]
     },
     "execution_count": 12,
     "metadata": {},
     "output_type": "execute_result"
    }
   ],
   "source": [
    "thirdclass = (2*(sen_recall[2]\n",
    "*precision[2]))/((sen_recall[2]\n",
    "+precision[2]))\n",
    "thirdclass"
   ]
  },
  {
   "cell_type": "code",
   "execution_count": 13,
   "id": "e2b4b116",
   "metadata": {},
   "outputs": [],
   "source": [
    "supportc1 = cm1[0][0] + cm1[1][0] + cm1[2][0]\n",
    "sp1 = supportc1/162"
   ]
  },
  {
   "cell_type": "code",
   "execution_count": 14,
   "id": "2e8f5c43",
   "metadata": {},
   "outputs": [],
   "source": [
    "supportc2 = cm1[0][1] + cm1[1][1] + cm1[2][1]\n",
    "sp2 = supportc2/162"
   ]
  },
  {
   "cell_type": "code",
   "execution_count": 15,
   "id": "12084501",
   "metadata": {},
   "outputs": [],
   "source": [
    "supportc3 = cm1[0][2] + cm1[1][2] + cm1[2][2]\n",
    "sp3 = supportc3/162"
   ]
  },
  {
   "cell_type": "code",
   "execution_count": 16,
   "id": "b7a8346f",
   "metadata": {},
   "outputs": [
    {
     "data": {
      "text/plain": [
       "nan"
      ]
     },
     "execution_count": 16,
     "metadata": {},
     "output_type": "execute_result"
    }
   ],
   "source": [
    "f1weighted = (firstclass*sp1) + (secclass*sp2) + (thirdclass*sp3)\n",
    "f1weighted"
   ]
  }
 ],
 "metadata": {
  "kernelspec": {
   "display_name": "Python 3 (ipykernel)",
   "language": "python",
   "name": "python3"
  },
  "language_info": {
   "codemirror_mode": {
    "name": "ipython",
    "version": 3
   },
   "file_extension": ".py",
   "mimetype": "text/x-python",
   "name": "python",
   "nbconvert_exporter": "python",
   "pygments_lexer": "ipython3",
   "version": "3.11.0"
  }
 },
 "nbformat": 4,
 "nbformat_minor": 5
}
