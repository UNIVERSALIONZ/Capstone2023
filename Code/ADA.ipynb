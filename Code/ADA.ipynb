{
 "cells": [
  {
   "cell_type": "code",
   "execution_count": null,
   "id": "66194695",
   "metadata": {},
   "outputs": [],
   "source": [
    "import pandas as pd\n",
    "from sklearn.ensemble import AdaBoostClassifier\n",
    "from sklearn.model_selection import GridSearchCV\n",
    "from sklearn.model_selection import train_test_split\n",
    "from sklearn.metrics import *\n",
    "from sklearn.model_selection import RepeatedKFold\n",
    "from joblib import dump, load\n",
    "from sklearn.metrics import confusion_matrix"
   ]
  },
  {
   "cell_type": "code",
   "execution_count": null,
   "id": "7d780190",
   "metadata": {},
   "outputs": [],
   "source": [
    "data = pd.read_excel('TV_Set 77.xlsx')"
   ]
  },
  {
   "cell_type": "code",
   "execution_count": null,
   "id": "07af6182",
   "metadata": {},
   "outputs": [],
   "source": [
    "X = data.iloc[:, 1:12]"
   ]
  },
  {
   "cell_type": "code",
   "execution_count": null,
   "id": "aaeb4329",
   "metadata": {},
   "outputs": [],
   "source": [
    "y = data['2-class']"
   ]
  },
  {
   "cell_type": "code",
   "execution_count": null,
   "id": "b2a6bc62",
   "metadata": {},
   "outputs": [],
   "source": [
    "ada  = AdaBoostClassifier(random_state=42)"
   ]
  },
  {
   "cell_type": "code",
   "execution_count": null,
   "id": "66d2ad0e",
   "metadata": {},
   "outputs": [],
   "source": [
    "param1 = { \n",
    "    'n_estimators': [50],\n",
    "          'learning_rate' : [0.7],\n",
    "          #'random_state' : [1,2,None]\n",
    "    \n",
    " }\n"
   ]
  },
  {
   "cell_type": "code",
   "execution_count": null,
   "id": "1db922c8",
   "metadata": {},
   "outputs": [],
   "source": [
    "cv = RepeatedKFold(n_splits=10, n_repeats=15, random_state=1)"
   ]
  },
  {
   "cell_type": "code",
   "execution_count": null,
   "id": "f1e8a256",
   "metadata": {},
   "outputs": [],
   "source": [
    "grid_search_ada = GridSearchCV(estimator = ada, param_grid = param1, \n",
    "                          cv = cv, n_jobs = -1, verbose = 3)"
   ]
  },
  {
   "cell_type": "code",
   "execution_count": null,
   "id": "d7dc262d",
   "metadata": {},
   "outputs": [],
   "source": [
    "grid_search_ada.fit(X,y)"
   ]
  },
  {
   "cell_type": "code",
   "execution_count": null,
   "id": "57b94f09",
   "metadata": {},
   "outputs": [],
   "source": [
    "grid_search_ada.best_params_"
   ]
  },
  {
   "cell_type": "code",
   "execution_count": null,
   "id": "42e9d101",
   "metadata": {},
   "outputs": [],
   "source": [
    "grid_search_ada.best_score_"
   ]
  },
  {
   "cell_type": "code",
   "execution_count": null,
   "id": "c725a213",
   "metadata": {},
   "outputs": [],
   "source": [
    "test = pd.read_excel('Test_Set 20.xlsx')\n",
    "test.head()"
   ]
  },
  {
   "cell_type": "code",
   "execution_count": null,
   "id": "384a1597",
   "metadata": {},
   "outputs": [],
   "source": [
    "X_test = test.iloc[:, 1:12]"
   ]
  },
  {
   "cell_type": "code",
   "execution_count": null,
   "id": "e30a38a0",
   "metadata": {},
   "outputs": [],
   "source": [
    "y_test  = test['2-class']"
   ]
  },
  {
   "cell_type": "code",
   "execution_count": null,
   "id": "c31d33b7",
   "metadata": {},
   "outputs": [],
   "source": [
    "y_pred =grid_search_ada.predict(X_test)\n",
    "y_pred"
   ]
  },
  {
   "cell_type": "code",
   "execution_count": null,
   "id": "fc96aff8",
   "metadata": {},
   "outputs": [],
   "source": [
    "from sklearn.metrics import accuracy_score\n",
    "accuracy_score(y_test,y_pred)"
   ]
  },
  {
   "cell_type": "code",
   "execution_count": null,
   "id": "70f25635",
   "metadata": {},
   "outputs": [],
   "source": [
    "from sklearn.metrics import f1_score\n",
    "f1_score(y_test, y_pred, average='weighted')"
   ]
  },
  {
   "cell_type": "code",
   "execution_count": null,
   "id": "1e54cc02",
   "metadata": {},
   "outputs": [],
   "source": [
    "#0.6841070098165717"
   ]
  }
 ],
 "metadata": {
  "kernelspec": {
   "display_name": "Python 3 (ipykernel)",
   "language": "python",
   "name": "python3"
  },
  "language_info": {
   "codemirror_mode": {
    "name": "ipython",
    "version": 3
   },
   "file_extension": ".py",
   "mimetype": "text/x-python",
   "name": "python",
   "nbconvert_exporter": "python",
   "pygments_lexer": "ipython3",
   "version": "3.11.0"
  }
 },
 "nbformat": 4,
 "nbformat_minor": 5
}
