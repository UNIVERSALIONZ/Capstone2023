{
 "cells": [
  {
   "cell_type": "code",
   "execution_count": 1,
   "id": "a20eee89",
   "metadata": {},
   "outputs": [],
   "source": [
    "import pandas as pd\n",
    "from sklearn.linear_model import LogisticRegression\n",
    "from sklearn.svm import SVC\n",
    "from sklearn.ensemble import RandomForestClassifier\n",
    "from sklearn.ensemble import GradientBoostingClassifier\n",
    "from sklearn.pipeline import Pipeline\n",
    "from sklearn.model_selection import GridSearchCV\n",
    "from sklearn.model_selection import train_test_split\n",
    "from sklearn.tree import DecisionTreeClassifier\n",
    "from sklearn.naive_bayes import MultinomialNB\n",
    "from sklearn.neighbors import KNeighborsClassifier\n",
    "from sklearn.metrics import *\n",
    "from sklearn.neural_network import MLPClassifier\n",
    "from sklearn.model_selection import RepeatedKFold\n",
    "from joblib import dump, load\n",
    "from sklearn.metrics import confusion_matrix\n",
    "import numpy as np"
   ]
  },
  {
   "cell_type": "code",
   "execution_count": 2,
   "id": "c59223c6",
   "metadata": {},
   "outputs": [],
   "source": [
    "grid_search_rf = load('LogReg_2Class.joblib') "
   ]
  },
  {
   "cell_type": "code",
   "execution_count": 3,
   "id": "8b214bea",
   "metadata": {},
   "outputs": [],
   "source": [
    "grid_search_rfnew = load('NewRF_2Class.joblib') "
   ]
  },
  {
   "cell_type": "code",
   "execution_count": 4,
   "id": "93247bac",
   "metadata": {
    "scrolled": true
   },
   "outputs": [
    {
     "data": {
      "text/html": [
       "<div>\n",
       "<style scoped>\n",
       "    .dataframe tbody tr th:only-of-type {\n",
       "        vertical-align: middle;\n",
       "    }\n",
       "\n",
       "    .dataframe tbody tr th {\n",
       "        vertical-align: top;\n",
       "    }\n",
       "\n",
       "    .dataframe thead th {\n",
       "        text-align: right;\n",
       "    }\n",
       "</style>\n",
       "<table border=\"1\" class=\"dataframe\">\n",
       "  <thead>\n",
       "    <tr style=\"text-align: right;\">\n",
       "      <th></th>\n",
       "      <th>pdb</th>\n",
       "      <th>Hbond</th>\n",
       "      <th>Hphob</th>\n",
       "      <th>consurf</th>\n",
       "      <th>asa</th>\n",
       "      <th>Electron-ion interaction potential</th>\n",
       "      <th>Hydrophobicity</th>\n",
       "      <th>Number of electrostatic charge</th>\n",
       "      <th>Number of potential hydrogen bonds</th>\n",
       "      <th>Hydrophilicity</th>\n",
       "      <th>Propensity</th>\n",
       "      <th>Isoelectric points</th>\n",
       "      <th>2-class</th>\n",
       "      <th>3-class</th>\n",
       "    </tr>\n",
       "  </thead>\n",
       "  <tbody>\n",
       "    <tr>\n",
       "      <th>0</th>\n",
       "      <td>1a4y</td>\n",
       "      <td>1</td>\n",
       "      <td>0</td>\n",
       "      <td>6</td>\n",
       "      <td>0.360</td>\n",
       "      <td>0.0959</td>\n",
       "      <td>-1.76</td>\n",
       "      <td>1</td>\n",
       "      <td>4</td>\n",
       "      <td>-0.5</td>\n",
       "      <td>0.27</td>\n",
       "      <td>5.405</td>\n",
       "      <td>1</td>\n",
       "      <td>2</td>\n",
       "    </tr>\n",
       "    <tr>\n",
       "      <th>1</th>\n",
       "      <td>1a4y</td>\n",
       "      <td>2</td>\n",
       "      <td>0</td>\n",
       "      <td>5</td>\n",
       "      <td>0.994</td>\n",
       "      <td>0.0242</td>\n",
       "      <td>-0.40</td>\n",
       "      <td>0</td>\n",
       "      <td>4</td>\n",
       "      <td>-0.5</td>\n",
       "      <td>0.41</td>\n",
       "      <td>5.565</td>\n",
       "      <td>0</td>\n",
       "      <td>0</td>\n",
       "    </tr>\n",
       "    <tr>\n",
       "      <th>2</th>\n",
       "      <td>1a4y</td>\n",
       "      <td>3</td>\n",
       "      <td>0</td>\n",
       "      <td>7</td>\n",
       "      <td>0.173</td>\n",
       "      <td>0.0761</td>\n",
       "      <td>-0.69</td>\n",
       "      <td>0</td>\n",
       "      <td>4</td>\n",
       "      <td>0.2</td>\n",
       "      <td>-0.11</td>\n",
       "      <td>5.650</td>\n",
       "      <td>0</td>\n",
       "      <td>0</td>\n",
       "    </tr>\n",
       "    <tr>\n",
       "      <th>3</th>\n",
       "      <td>1a4y</td>\n",
       "      <td>1</td>\n",
       "      <td>0</td>\n",
       "      <td>3</td>\n",
       "      <td>0.501</td>\n",
       "      <td>0.0959</td>\n",
       "      <td>-1.76</td>\n",
       "      <td>1</td>\n",
       "      <td>4</td>\n",
       "      <td>-0.5</td>\n",
       "      <td>0.27</td>\n",
       "      <td>5.405</td>\n",
       "      <td>0</td>\n",
       "      <td>0</td>\n",
       "    </tr>\n",
       "    <tr>\n",
       "      <th>4</th>\n",
       "      <td>1a4y</td>\n",
       "      <td>4</td>\n",
       "      <td>0</td>\n",
       "      <td>8</td>\n",
       "      <td>0.690</td>\n",
       "      <td>0.0959</td>\n",
       "      <td>-1.76</td>\n",
       "      <td>1</td>\n",
       "      <td>4</td>\n",
       "      <td>-0.5</td>\n",
       "      <td>0.27</td>\n",
       "      <td>5.405</td>\n",
       "      <td>0</td>\n",
       "      <td>0</td>\n",
       "    </tr>\n",
       "  </tbody>\n",
       "</table>\n",
       "</div>"
      ],
      "text/plain": [
       "    pdb  Hbond  Hphob  consurf    asa  Electron-ion interaction potential  \\\n",
       "0  1a4y      1      0        6  0.360                              0.0959   \n",
       "1  1a4y      2      0        5  0.994                              0.0242   \n",
       "2  1a4y      3      0        7  0.173                              0.0761   \n",
       "3  1a4y      1      0        3  0.501                              0.0959   \n",
       "4  1a4y      4      0        8  0.690                              0.0959   \n",
       "\n",
       "   Hydrophobicity  Number of electrostatic charge  \\\n",
       "0           -1.76                               1   \n",
       "1           -0.40                               0   \n",
       "2           -0.69                               0   \n",
       "3           -1.76                               1   \n",
       "4           -1.76                               1   \n",
       "\n",
       "   Number of potential hydrogen bonds  Hydrophilicity  Propensity  \\\n",
       "0                                   4            -0.5        0.27   \n",
       "1                                   4            -0.5        0.41   \n",
       "2                                   4             0.2       -0.11   \n",
       "3                                   4            -0.5        0.27   \n",
       "4                                   4            -0.5        0.27   \n",
       "\n",
       "   Isoelectric points  2-class  3-class  \n",
       "0               5.405        1        2  \n",
       "1               5.565        0        0  \n",
       "2               5.650        0        0  \n",
       "3               5.405        0        0  \n",
       "4               5.405        0        0  "
      ]
     },
     "execution_count": 4,
     "metadata": {},
     "output_type": "execute_result"
    }
   ],
   "source": [
    "test = pd.read_excel('Test Set 20.xlsx')\n",
    "test.head()"
   ]
  },
  {
   "cell_type": "code",
   "execution_count": 5,
   "id": "46e07f5b",
   "metadata": {},
   "outputs": [],
   "source": [
    "X_test = test.iloc[:, 1:12]"
   ]
  },
  {
   "cell_type": "code",
   "execution_count": 6,
   "id": "cfc4ad4d",
   "metadata": {},
   "outputs": [],
   "source": [
    "y_test  = test['2-class']"
   ]
  },
  {
   "cell_type": "code",
   "execution_count": 7,
   "id": "1e933698",
   "metadata": {},
   "outputs": [],
   "source": [
    "y_pred =grid_search_rf.predict(X_test)"
   ]
  },
  {
   "cell_type": "code",
   "execution_count": 8,
   "id": "5a165f64",
   "metadata": {},
   "outputs": [
    {
     "data": {
      "text/html": [
       "<div>\n",
       "<style scoped>\n",
       "    .dataframe tbody tr th:only-of-type {\n",
       "        vertical-align: middle;\n",
       "    }\n",
       "\n",
       "    .dataframe tbody tr th {\n",
       "        vertical-align: top;\n",
       "    }\n",
       "\n",
       "    .dataframe thead th {\n",
       "        text-align: right;\n",
       "    }\n",
       "</style>\n",
       "<table border=\"1\" class=\"dataframe\">\n",
       "  <thead>\n",
       "    <tr style=\"text-align: right;\">\n",
       "      <th></th>\n",
       "      <th>pdb</th>\n",
       "      <th>Hbond</th>\n",
       "      <th>Hphob</th>\n",
       "      <th>consurf</th>\n",
       "      <th>asa</th>\n",
       "      <th>Electron-ion interaction potential</th>\n",
       "      <th>Hydrophobicity</th>\n",
       "      <th>Number of electrostatic charge</th>\n",
       "      <th>Number of potential hydrogen bonds</th>\n",
       "      <th>Hydrophilicity</th>\n",
       "      <th>Propensity</th>\n",
       "      <th>Isoelectric points</th>\n",
       "      <th>2-class</th>\n",
       "      <th>3-class</th>\n",
       "    </tr>\n",
       "  </thead>\n",
       "  <tbody>\n",
       "    <tr>\n",
       "      <th>0</th>\n",
       "      <td>1a4y</td>\n",
       "      <td>1</td>\n",
       "      <td>0</td>\n",
       "      <td>6</td>\n",
       "      <td>0.360</td>\n",
       "      <td>0.0959</td>\n",
       "      <td>-1.76</td>\n",
       "      <td>1</td>\n",
       "      <td>4</td>\n",
       "      <td>-0.5</td>\n",
       "      <td>0.27</td>\n",
       "      <td>5.405</td>\n",
       "      <td>1</td>\n",
       "      <td>2</td>\n",
       "    </tr>\n",
       "    <tr>\n",
       "      <th>1</th>\n",
       "      <td>1a4y</td>\n",
       "      <td>2</td>\n",
       "      <td>0</td>\n",
       "      <td>5</td>\n",
       "      <td>0.994</td>\n",
       "      <td>0.0242</td>\n",
       "      <td>-0.40</td>\n",
       "      <td>0</td>\n",
       "      <td>4</td>\n",
       "      <td>-0.5</td>\n",
       "      <td>0.41</td>\n",
       "      <td>5.565</td>\n",
       "      <td>0</td>\n",
       "      <td>0</td>\n",
       "    </tr>\n",
       "    <tr>\n",
       "      <th>2</th>\n",
       "      <td>1a4y</td>\n",
       "      <td>3</td>\n",
       "      <td>0</td>\n",
       "      <td>7</td>\n",
       "      <td>0.173</td>\n",
       "      <td>0.0761</td>\n",
       "      <td>-0.69</td>\n",
       "      <td>0</td>\n",
       "      <td>4</td>\n",
       "      <td>0.2</td>\n",
       "      <td>-0.11</td>\n",
       "      <td>5.650</td>\n",
       "      <td>0</td>\n",
       "      <td>0</td>\n",
       "    </tr>\n",
       "    <tr>\n",
       "      <th>3</th>\n",
       "      <td>1a4y</td>\n",
       "      <td>1</td>\n",
       "      <td>0</td>\n",
       "      <td>3</td>\n",
       "      <td>0.501</td>\n",
       "      <td>0.0959</td>\n",
       "      <td>-1.76</td>\n",
       "      <td>1</td>\n",
       "      <td>4</td>\n",
       "      <td>-0.5</td>\n",
       "      <td>0.27</td>\n",
       "      <td>5.405</td>\n",
       "      <td>0</td>\n",
       "      <td>0</td>\n",
       "    </tr>\n",
       "    <tr>\n",
       "      <th>4</th>\n",
       "      <td>1a4y</td>\n",
       "      <td>4</td>\n",
       "      <td>0</td>\n",
       "      <td>8</td>\n",
       "      <td>0.690</td>\n",
       "      <td>0.0959</td>\n",
       "      <td>-1.76</td>\n",
       "      <td>1</td>\n",
       "      <td>4</td>\n",
       "      <td>-0.5</td>\n",
       "      <td>0.27</td>\n",
       "      <td>5.405</td>\n",
       "      <td>0</td>\n",
       "      <td>0</td>\n",
       "    </tr>\n",
       "  </tbody>\n",
       "</table>\n",
       "</div>"
      ],
      "text/plain": [
       "    pdb  Hbond  Hphob  consurf    asa  Electron-ion interaction potential  \\\n",
       "0  1a4y      1      0        6  0.360                              0.0959   \n",
       "1  1a4y      2      0        5  0.994                              0.0242   \n",
       "2  1a4y      3      0        7  0.173                              0.0761   \n",
       "3  1a4y      1      0        3  0.501                              0.0959   \n",
       "4  1a4y      4      0        8  0.690                              0.0959   \n",
       "\n",
       "   Hydrophobicity  Number of electrostatic charge  \\\n",
       "0           -1.76                               1   \n",
       "1           -0.40                               0   \n",
       "2           -0.69                               0   \n",
       "3           -1.76                               1   \n",
       "4           -1.76                               1   \n",
       "\n",
       "   Number of potential hydrogen bonds  Hydrophilicity  Propensity  \\\n",
       "0                                   4            -0.5        0.27   \n",
       "1                                   4            -0.5        0.41   \n",
       "2                                   4             0.2       -0.11   \n",
       "3                                   4            -0.5        0.27   \n",
       "4                                   4            -0.5        0.27   \n",
       "\n",
       "   Isoelectric points  2-class  3-class  \n",
       "0               5.405        1        2  \n",
       "1               5.565        0        0  \n",
       "2               5.650        0        0  \n",
       "3               5.405        0        0  \n",
       "4               5.405        0        0  "
      ]
     },
     "execution_count": 8,
     "metadata": {},
     "output_type": "execute_result"
    }
   ],
   "source": [
    "tnew = pd.read_excel('Test_Set 20.xlsx')\n",
    "tnew.head()"
   ]
  },
  {
   "cell_type": "code",
   "execution_count": 9,
   "id": "6773a4df",
   "metadata": {},
   "outputs": [],
   "source": [
    "X_testnew = tnew.iloc[:, 1:12]"
   ]
  },
  {
   "cell_type": "code",
   "execution_count": 10,
   "id": "31527850",
   "metadata": {},
   "outputs": [],
   "source": [
    "y_testnew  = tnew['2-class']"
   ]
  },
  {
   "cell_type": "code",
   "execution_count": 11,
   "id": "ae7a716b",
   "metadata": {},
   "outputs": [],
   "source": [
    "y_prednew =grid_search_rfnew.predict(X_testnew)"
   ]
  },
  {
   "cell_type": "code",
   "execution_count": 12,
   "id": "ebe72477",
   "metadata": {
    "scrolled": true
   },
   "outputs": [],
   "source": [
    "# cm1 = confusion_matrix(y_test,y_pred)\n",
    "# cm1"
   ]
  },
  {
   "cell_type": "code",
   "execution_count": 13,
   "id": "be505a53",
   "metadata": {},
   "outputs": [],
   "source": [
    "# precision = cm1[0,0]/(cm1[0,0]+cm1[0,1])\n",
    "# sen_recall = cm1[0,0]/(cm1[0,0]+cm1[1,0])\n",
    "# acc = accuracy_score(y_test,y_pred)\n",
    "# f1 = f1_score(y_test, y_pred, average='weighted')\n",
    "# mcc = matthews_corrcoef(y_test, y_pred)\n",
    "# auc = roc_auc_score(y_test, y_pred, average='weighted')\n",
    "# specificity =  cm1[1,1]/(cm1[0,1]+cm1[1,1])\n"
   ]
  },
  {
   "cell_type": "code",
   "execution_count": 14,
   "id": "8ca55f08",
   "metadata": {
    "scrolled": true
   },
   "outputs": [],
   "source": [
    "# print(precision)\n",
    "\n",
    "# print(sen_recall)\n",
    "\n",
    "# print(acc)\n",
    "\n",
    "# print(f1)\n",
    "\n",
    "# print(mcc)\n",
    "\n",
    "# print(auc)\n",
    "\n",
    "# print(specificity)\n"
   ]
  },
  {
   "cell_type": "code",
   "execution_count": 15,
   "id": "f29235e4",
   "metadata": {},
   "outputs": [
    {
     "data": {
      "image/png": "[encoded data removed]",
      "text/plain": [
       "<Figure size 640x480 with 1 Axes>"
      ]
     },
     "metadata": {},
     "output_type": "display_data"
    }
   ],
   "source": [
    "from sklearn.metrics import RocCurveDisplay\n",
    "g1 = RocCurveDisplay.from_estimator(grid_search_rf, X_test, y_test, name = 'RF_2Class', color = 'red')\n",
    "\n",
    "#xgb = RocCurveDisplay.from_estimator(grid_search_xgb, X_test, y_test, ax=mlp.ax_,name = 'XGB' )\n",
    "g2 = RocCurveDisplay.from_estimator(grid_search_rfnew, X_testnew, y_testnew, ax=g1.ax_,name = '*RF_2Class', color = 'blue' )"
   ]
  },
  {
   "cell_type": "code",
   "execution_count": 16,
   "id": "a34df252",
   "metadata": {},
   "outputs": [
    {
     "data": {
      "image/png": "[encoded data removed]",
      "text/plain": [
       "<Figure size 640x480 with 1 Axes>"
      ]
     },
     "metadata": {},
     "output_type": "display_data"
    }
   ],
   "source": [
    "from sklearn.metrics import RocCurveDisplay\n",
    "g1 = RocCurveDisplay.from_predictions(y_test,y_pred, name = 'LR_2Class', color = 'red',)\n",
    "\n",
    "#xgb = RocCurveDisplay.from_estimator(grid_search_xgb, X_test, y_test, ax=mlp.ax_,name = 'XGB' )\n",
    "g2 = RocCurveDisplay.from_predictions(y_testnew, y_prednew, ax=g1.ax_, name = '*LR_2Class', color = 'blue', label = '*RF_2Class (AUC = 0.611)')"
   ]
  },
  {
   "cell_type": "code",
   "execution_count": 32,
   "id": "b2e8f4e8",
   "metadata": {},
   "outputs": [
    {
     "data": {
      "image/png": "[encoded data removed]",
      "text/plain": [
       "<Figure size 640x480 with 1 Axes>"
      ]
     },
     "metadata": {},
     "output_type": "display_data"
    }
   ],
   "source": [
    "import matplotlib.pyplot as plt\n",
    "import numpy as np\n",
    " \n",
    "#data\n",
    "#x-axis\n",
    "Classifiers = ['*2Class', '2Class']\n",
    "#y-axis\n",
    "random = [0.728, 0.663]\n",
    "log = [0.697,0.684]\n",
    " \n",
    "#bar chart properties\n",
    "x = np.arange(len(Classifiers))\n",
    "width = 0.35\n",
    " \n",
    "#draw grouped bar chart\n",
    "fig, ax = plt.subplots()\n",
    "bar1 = ax.bar(x - width/2, random, width, label='Random Forest')\n",
    "bar2 = ax.bar(x + width/2, log, width, label='Logistic Regression')\n",
    " \n",
    "#ax.set_xlabel('Year')\n",
    "ax.set_ylabel('F1 Score')\n",
    "\n",
    "ax.set_xticks(x, Classifiers)\n",
    "\n",
    "ax.legend(loc='upper center', ncols=3)\n",
    "ax.set_ylim(0, 1)\n",
    " \n",
    "#setting bar labels\n",
    "ax.bar_label(bar1, padding = 3)\n",
    "ax.bar_label(bar2, padding = 3)\n",
    "#ax.set_title('Comparison of F1 score on the best clasifier of each study')\n",
    "fig.tight_layout()\n",
    " \n",
    "plt.show()"
   ]
  }
 ],
 "metadata": {
  "kernelspec": {
   "display_name": "Python 3 (ipykernel)",
   "language": "python",
   "name": "python3"
  },
  "language_info": {
   "codemirror_mode": {
    "name": "ipython",
    "version": 3
   },
   "file_extension": ".py",
   "mimetype": "text/x-python",
   "name": "python",
   "nbconvert_exporter": "python",
   "pygments_lexer": "ipython3",
   "version": "3.11.0"
  }
 },
 "nbformat": 4,
 "nbformat_minor": 5
}
