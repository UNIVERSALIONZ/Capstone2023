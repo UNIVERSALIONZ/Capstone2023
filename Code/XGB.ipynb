{
 "cells": [
  {
   "cell_type": "code",
   "execution_count": 1,
   "id": "7bc057a5",
   "metadata": {},
   "outputs": [],
   "source": [
    "from xgboost import XGBClassifier\n",
    "import pandas as pd\n",
    "from joblib import dump, load\n",
    "from sklearn.metrics import *\n",
    "from sklearn.model_selection import RepeatedKFold\n",
    "from sklearn.model_selection import GridSearchCV\n"
   ]
  },
  {
   "cell_type": "code",
   "execution_count": 2,
   "id": "e26800ec",
   "metadata": {},
   "outputs": [],
   "source": [
    "data = pd.read_excel('TV Set 77.xlsx')"
   ]
  },
  {
   "cell_type": "code",
   "execution_count": 3,
   "id": "40c0ab89",
   "metadata": {},
   "outputs": [],
   "source": [
    "X_train = data.iloc[:, 1:12]"
   ]
  },
  {
   "cell_type": "code",
   "execution_count": 4,
   "id": "bee1e0e9",
   "metadata": {},
   "outputs": [],
   "source": [
    "y_train = data['2-class']"
   ]
  },
  {
   "cell_type": "code",
   "execution_count": 5,
   "id": "eecfe8ad",
   "metadata": {},
   "outputs": [],
   "source": [
    "bst = XGBClassifier()"
   ]
  },
  {
   "cell_type": "code",
   "execution_count": 6,
   "id": "a1212b38",
   "metadata": {},
   "outputs": [],
   "source": [
    "param = {\n",
    "'n_estimators':[10],\n",
    "'eta': [0.01],\n",
    "'max_depth': [4],\n",
    "'learning_rate':[0.2]\n",
    "}\n",
    "\n"
   ]
  },
  {
   "cell_type": "code",
   "execution_count": 7,
   "id": "aaa100dd",
   "metadata": {},
   "outputs": [],
   "source": [
    "cv = RepeatedKFold(n_splits=10, n_repeats=15, random_state=1)"
   ]
  },
  {
   "cell_type": "code",
   "execution_count": 8,
   "id": "0b27e272",
   "metadata": {},
   "outputs": [],
   "source": [
    "grid_search_xg = GridSearchCV(estimator = bst, param_grid = param, \n",
    "                          cv = cv, n_jobs = -1, verbose = 3)"
   ]
  },
  {
   "cell_type": "code",
   "execution_count": 9,
   "id": "7e4482a0",
   "metadata": {},
   "outputs": [
    {
     "name": "stdout",
     "output_type": "stream",
     "text": [
      "Fitting 150 folds for each of 1 candidates, totalling 150 fits\n"
     ]
    },
    {
     "data": {
      "text/html": [
       "<style>#sk-container-id-1 {color: black;background-color: white;}#sk-container-id-1 pre{padding: 0;}#sk-container-id-1 div.sk-toggleable {background-color: white;}#sk-container-id-1 label.sk-toggleable__label {cursor: pointer;display: block;width: 100%;margin-bottom: 0;padding: 0.3em;box-sizing: border-box;text-align: center;}#sk-container-id-1 label.sk-toggleable__label-arrow:before {content: \"▸\";float: left;margin-right: 0.25em;color: #696969;}#sk-container-id-1 label.sk-toggleable__label-arrow:hover:before {color: black;}#sk-container-id-1 div.sk-estimator:hover label.sk-toggleable__label-arrow:before {color: black;}#sk-container-id-1 div.sk-toggleable__content {max-height: 0;max-width: 0;overflow: hidden;text-align: left;background-color: #f0f8ff;}#sk-container-id-1 div.sk-toggleable__content pre {margin: 0.2em;color: black;border-radius: 0.25em;background-color: #f0f8ff;}#sk-container-id-1 input.sk-toggleable__control:checked~div.sk-toggleable__content {max-height: 200px;max-width: 100%;overflow: auto;}#sk-container-id-1 input.sk-toggleable__control:checked~label.sk-toggleable__label-arrow:before {content: \"▾\";}#sk-container-id-1 div.sk-estimator input.sk-toggleable__control:checked~label.sk-toggleable__label {background-color: #d4ebff;}#sk-container-id-1 div.sk-label input.sk-toggleable__control:checked~label.sk-toggleable__label {background-color: #d4ebff;}#sk-container-id-1 input.sk-hidden--visually {border: 0;clip: rect(1px 1px 1px 1px);clip: rect(1px, 1px, 1px, 1px);height: 1px;margin: -1px;overflow: hidden;padding: 0;position: absolute;width: 1px;}#sk-container-id-1 div.sk-estimator {font-family: monospace;background-color: #f0f8ff;border: 1px dotted black;border-radius: 0.25em;box-sizing: border-box;margin-bottom: 0.5em;}#sk-container-id-1 div.sk-estimator:hover {background-color: #d4ebff;}#sk-container-id-1 div.sk-parallel-item::after {content: \"\";width: 100%;border-bottom: 1px solid gray;flex-grow: 1;}#sk-container-id-1 div.sk-label:hover label.sk-toggleable__label {background-color: #d4ebff;}#sk-container-id-1 div.sk-serial::before {content: \"\";position: absolute;border-left: 1px solid gray;box-sizing: border-box;top: 0;bottom: 0;left: 50%;z-index: 0;}#sk-container-id-1 div.sk-serial {display: flex;flex-direction: column;align-items: center;background-color: white;padding-right: 0.2em;padding-left: 0.2em;position: relative;}#sk-container-id-1 div.sk-item {position: relative;z-index: 1;}#sk-container-id-1 div.sk-parallel {display: flex;align-items: stretch;justify-content: center;background-color: white;position: relative;}#sk-container-id-1 div.sk-item::before, #sk-container-id-1 div.sk-parallel-item::before {content: \"\";position: absolute;border-left: 1px solid gray;box-sizing: border-box;top: 0;bottom: 0;left: 50%;z-index: -1;}#sk-container-id-1 div.sk-parallel-item {display: flex;flex-direction: column;z-index: 1;position: relative;background-color: white;}#sk-container-id-1 div.sk-parallel-item:first-child::after {align-self: flex-end;width: 50%;}#sk-container-id-1 div.sk-parallel-item:last-child::after {align-self: flex-start;width: 50%;}#sk-container-id-1 div.sk-parallel-item:only-child::after {width: 0;}#sk-container-id-1 div.sk-dashed-wrapped {border: 1px dashed gray;margin: 0 0.4em 0.5em 0.4em;box-sizing: border-box;padding-bottom: 0.4em;background-color: white;}#sk-container-id-1 div.sk-label label {font-family: monospace;font-weight: bold;display: inline-block;line-height: 1.2em;}#sk-container-id-1 div.sk-label-container {text-align: center;}#sk-container-id-1 div.sk-container {/* jupyter's `normalize.less` sets `[hidden] { display: none; }` but bootstrap.min.css set `[hidden] { display: none !important; }` so we also need the `!important` here to be able to override the default hidden behavior on the sphinx rendered scikit-learn.org. See: https://github.com/scikit-learn/scikit-learn/issues/21755 */display: inline-block !important;position: relative;}#sk-container-id-1 div.sk-text-repr-fallback {display: none;}</style><div id=\"sk-container-id-1\" class=\"sk-top-container\"><div class=\"sk-text-repr-fallback\"><pre>GridSearchCV(cv=RepeatedKFold(n_repeats=15, n_splits=10, random_state=1),\n",
       "             estimator=XGBClassifier(base_score=None, booster=None,\n",
       "                                     callbacks=None, colsample_bylevel=None,\n",
       "                                     colsample_bynode=None,\n",
       "                                     colsample_bytree=None,\n",
       "                                     early_stopping_rounds=None,\n",
       "                                     enable_categorical=False, eval_metric=None,\n",
       "                                     feature_types=None, gamma=None,\n",
       "                                     gpu_id=None, grow_policy=None,\n",
       "                                     importance_type=...\n",
       "                                     max_cat_threshold=None,\n",
       "                                     max_cat_to_onehot=None,\n",
       "                                     max_delta_step=None, max_depth=None,\n",
       "                                     max_leaves=None, min_child_weight=None,\n",
       "                                     missing=nan, monotone_constraints=None,\n",
       "                                     n_estimators=100, n_jobs=None,\n",
       "                                     num_parallel_tree=None, predictor=None,\n",
       "                                     random_state=None, ...),\n",
       "             n_jobs=-1,\n",
       "             param_grid={&#x27;eta&#x27;: [0.01], &#x27;learning_rate&#x27;: [0.2],\n",
       "                         &#x27;max_depth&#x27;: [4], &#x27;n_estimators&#x27;: [10]},\n",
       "             verbose=3)</pre><b>In a Jupyter environment, please rerun this cell to show the HTML representation or trust the notebook. <br />On GitHub, the HTML representation is unable to render, please try loading this page with nbviewer.org.</b></div><div class=\"sk-container\" hidden><div class=\"sk-item sk-dashed-wrapped\"><div class=\"sk-label-container\"><div class=\"sk-label sk-toggleable\"><input class=\"sk-toggleable__control sk-hidden--visually\" id=\"sk-estimator-id-1\" type=\"checkbox\" ><label for=\"sk-estimator-id-1\" class=\"sk-toggleable__label sk-toggleable__label-arrow\">GridSearchCV</label><div class=\"sk-toggleable__content\"><pre>GridSearchCV(cv=RepeatedKFold(n_repeats=15, n_splits=10, random_state=1),\n",
       "             estimator=XGBClassifier(base_score=None, booster=None,\n",
       "                                     callbacks=None, colsample_bylevel=None,\n",
       "                                     colsample_bynode=None,\n",
       "                                     colsample_bytree=None,\n",
       "                                     early_stopping_rounds=None,\n",
       "                                     enable_categorical=False, eval_metric=None,\n",
       "                                     feature_types=None, gamma=None,\n",
       "                                     gpu_id=None, grow_policy=None,\n",
       "                                     importance_type=...\n",
       "                                     max_cat_threshold=None,\n",
       "                                     max_cat_to_onehot=None,\n",
       "                                     max_delta_step=None, max_depth=None,\n",
       "                                     max_leaves=None, min_child_weight=None,\n",
       "                                     missing=nan, monotone_constraints=None,\n",
       "                                     n_estimators=100, n_jobs=None,\n",
       "                                     num_parallel_tree=None, predictor=None,\n",
       "                                     random_state=None, ...),\n",
       "             n_jobs=-1,\n",
       "             param_grid={&#x27;eta&#x27;: [0.01], &#x27;learning_rate&#x27;: [0.2],\n",
       "                         &#x27;max_depth&#x27;: [4], &#x27;n_estimators&#x27;: [10]},\n",
       "             verbose=3)</pre></div></div></div><div class=\"sk-parallel\"><div class=\"sk-parallel-item\"><div class=\"sk-item\"><div class=\"sk-label-container\"><div class=\"sk-label sk-toggleable\"><input class=\"sk-toggleable__control sk-hidden--visually\" id=\"sk-estimator-id-2\" type=\"checkbox\" ><label for=\"sk-estimator-id-2\" class=\"sk-toggleable__label sk-toggleable__label-arrow\">estimator: XGBClassifier</label><div class=\"sk-toggleable__content\"><pre>XGBClassifier(base_score=None, booster=None, callbacks=None,\n",
       "              colsample_bylevel=None, colsample_bynode=None,\n",
       "              colsample_bytree=None, early_stopping_rounds=None,\n",
       "              enable_categorical=False, eval_metric=None, feature_types=None,\n",
       "              gamma=None, gpu_id=None, grow_policy=None, importance_type=None,\n",
       "              interaction_constraints=None, learning_rate=None, max_bin=None,\n",
       "              max_cat_threshold=None, max_cat_to_onehot=None,\n",
       "              max_delta_step=None, max_depth=None, max_leaves=None,\n",
       "              min_child_weight=None, missing=nan, monotone_constraints=None,\n",
       "              n_estimators=100, n_jobs=None, num_parallel_tree=None,\n",
       "              predictor=None, random_state=None, ...)</pre></div></div></div><div class=\"sk-serial\"><div class=\"sk-item\"><div class=\"sk-estimator sk-toggleable\"><input class=\"sk-toggleable__control sk-hidden--visually\" id=\"sk-estimator-id-3\" type=\"checkbox\" ><label for=\"sk-estimator-id-3\" class=\"sk-toggleable__label sk-toggleable__label-arrow\">XGBClassifier</label><div class=\"sk-toggleable__content\"><pre>XGBClassifier(base_score=None, booster=None, callbacks=None,\n",
       "              colsample_bylevel=None, colsample_bynode=None,\n",
       "              colsample_bytree=None, early_stopping_rounds=None,\n",
       "              enable_categorical=False, eval_metric=None, feature_types=None,\n",
       "              gamma=None, gpu_id=None, grow_policy=None, importance_type=None,\n",
       "              interaction_constraints=None, learning_rate=None, max_bin=None,\n",
       "              max_cat_threshold=None, max_cat_to_onehot=None,\n",
       "              max_delta_step=None, max_depth=None, max_leaves=None,\n",
       "              min_child_weight=None, missing=nan, monotone_constraints=None,\n",
       "              n_estimators=100, n_jobs=None, num_parallel_tree=None,\n",
       "              predictor=None, random_state=None, ...)</pre></div></div></div></div></div></div></div></div></div></div>"
      ],
      "text/plain": [
       "GridSearchCV(cv=RepeatedKFold(n_repeats=15, n_splits=10, random_state=1),\n",
       "             estimator=XGBClassifier(base_score=None, booster=None,\n",
       "                                     callbacks=None, colsample_bylevel=None,\n",
       "                                     colsample_bynode=None,\n",
       "                                     colsample_bytree=None,\n",
       "                                     early_stopping_rounds=None,\n",
       "                                     enable_categorical=False, eval_metric=None,\n",
       "                                     feature_types=None, gamma=None,\n",
       "                                     gpu_id=None, grow_policy=None,\n",
       "                                     importance_type=...\n",
       "                                     max_cat_threshold=None,\n",
       "                                     max_cat_to_onehot=None,\n",
       "                                     max_delta_step=None, max_depth=None,\n",
       "                                     max_leaves=None, min_child_weight=None,\n",
       "                                     missing=nan, monotone_constraints=None,\n",
       "                                     n_estimators=100, n_jobs=None,\n",
       "                                     num_parallel_tree=None, predictor=None,\n",
       "                                     random_state=None, ...),\n",
       "             n_jobs=-1,\n",
       "             param_grid={'eta': [0.01], 'learning_rate': [0.2],\n",
       "                         'max_depth': [4], 'n_estimators': [10]},\n",
       "             verbose=3)"
      ]
     },
     "execution_count": 9,
     "metadata": {},
     "output_type": "execute_result"
    }
   ],
   "source": [
    "grid_search_xg.fit(X_train, y_train)"
   ]
  },
  {
   "cell_type": "code",
   "execution_count": 10,
   "id": "3d4b9fc9",
   "metadata": {},
   "outputs": [
    {
     "name": "stdout",
     "output_type": "stream",
     "text": [
      "best parameter combination:  {'eta': 0.01, 'learning_rate': 0.2, 'max_depth': 4, 'n_estimators': 10}\n"
     ]
    }
   ],
   "source": [
    "print('best parameter combination: ',grid_search_xg.best_params_)"
   ]
  },
  {
   "cell_type": "code",
   "execution_count": 11,
   "id": "2f89ff59",
   "metadata": {},
   "outputs": [
    {
     "name": "stdout",
     "output_type": "stream",
     "text": [
      "best parameter score:  0.7315432414027919\n"
     ]
    }
   ],
   "source": [
    "print('best parameter score: ',grid_search_xg.best_score_)"
   ]
  },
  {
   "cell_type": "code",
   "execution_count": 12,
   "id": "b760b54a",
   "metadata": {},
   "outputs": [
    {
     "data": {
      "text/html": [
       "<div>\n",
       "<style scoped>\n",
       "    .dataframe tbody tr th:only-of-type {\n",
       "        vertical-align: middle;\n",
       "    }\n",
       "\n",
       "    .dataframe tbody tr th {\n",
       "        vertical-align: top;\n",
       "    }\n",
       "\n",
       "    .dataframe thead th {\n",
       "        text-align: right;\n",
       "    }\n",
       "</style>\n",
       "<table border=\"1\" class=\"dataframe\">\n",
       "  <thead>\n",
       "    <tr style=\"text-align: right;\">\n",
       "      <th></th>\n",
       "      <th>pdb</th>\n",
       "      <th>Hbond</th>\n",
       "      <th>Hphob</th>\n",
       "      <th>consurf</th>\n",
       "      <th>asa</th>\n",
       "      <th>Electron-ion interaction potential</th>\n",
       "      <th>Hydrophobicity</th>\n",
       "      <th>Number of electrostatic charge</th>\n",
       "      <th>Number of potential hydrogen bonds</th>\n",
       "      <th>Hydrophilicity</th>\n",
       "      <th>Propensity</th>\n",
       "      <th>Isoelectric points</th>\n",
       "      <th>2-class</th>\n",
       "      <th>3-class</th>\n",
       "    </tr>\n",
       "  </thead>\n",
       "  <tbody>\n",
       "    <tr>\n",
       "      <th>0</th>\n",
       "      <td>1a4y</td>\n",
       "      <td>1</td>\n",
       "      <td>0</td>\n",
       "      <td>6</td>\n",
       "      <td>0.360</td>\n",
       "      <td>0.0959</td>\n",
       "      <td>-1.76</td>\n",
       "      <td>1</td>\n",
       "      <td>4</td>\n",
       "      <td>-0.5</td>\n",
       "      <td>0.27</td>\n",
       "      <td>5.405</td>\n",
       "      <td>1</td>\n",
       "      <td>2</td>\n",
       "    </tr>\n",
       "    <tr>\n",
       "      <th>1</th>\n",
       "      <td>1a4y</td>\n",
       "      <td>2</td>\n",
       "      <td>0</td>\n",
       "      <td>5</td>\n",
       "      <td>0.994</td>\n",
       "      <td>0.0242</td>\n",
       "      <td>-0.40</td>\n",
       "      <td>0</td>\n",
       "      <td>4</td>\n",
       "      <td>-0.5</td>\n",
       "      <td>0.41</td>\n",
       "      <td>5.565</td>\n",
       "      <td>0</td>\n",
       "      <td>0</td>\n",
       "    </tr>\n",
       "    <tr>\n",
       "      <th>2</th>\n",
       "      <td>1a4y</td>\n",
       "      <td>3</td>\n",
       "      <td>0</td>\n",
       "      <td>7</td>\n",
       "      <td>0.173</td>\n",
       "      <td>0.0761</td>\n",
       "      <td>-0.69</td>\n",
       "      <td>0</td>\n",
       "      <td>4</td>\n",
       "      <td>0.2</td>\n",
       "      <td>-0.11</td>\n",
       "      <td>5.650</td>\n",
       "      <td>0</td>\n",
       "      <td>0</td>\n",
       "    </tr>\n",
       "    <tr>\n",
       "      <th>3</th>\n",
       "      <td>1a4y</td>\n",
       "      <td>1</td>\n",
       "      <td>0</td>\n",
       "      <td>3</td>\n",
       "      <td>0.501</td>\n",
       "      <td>0.0959</td>\n",
       "      <td>-1.76</td>\n",
       "      <td>1</td>\n",
       "      <td>4</td>\n",
       "      <td>-0.5</td>\n",
       "      <td>0.27</td>\n",
       "      <td>5.405</td>\n",
       "      <td>0</td>\n",
       "      <td>0</td>\n",
       "    </tr>\n",
       "    <tr>\n",
       "      <th>4</th>\n",
       "      <td>1a4y</td>\n",
       "      <td>4</td>\n",
       "      <td>0</td>\n",
       "      <td>8</td>\n",
       "      <td>0.690</td>\n",
       "      <td>0.0959</td>\n",
       "      <td>-1.76</td>\n",
       "      <td>1</td>\n",
       "      <td>4</td>\n",
       "      <td>-0.5</td>\n",
       "      <td>0.27</td>\n",
       "      <td>5.405</td>\n",
       "      <td>0</td>\n",
       "      <td>0</td>\n",
       "    </tr>\n",
       "  </tbody>\n",
       "</table>\n",
       "</div>"
      ],
      "text/plain": [
       "    pdb  Hbond  Hphob  consurf    asa  Electron-ion interaction potential  \\\n",
       "0  1a4y      1      0        6  0.360                              0.0959   \n",
       "1  1a4y      2      0        5  0.994                              0.0242   \n",
       "2  1a4y      3      0        7  0.173                              0.0761   \n",
       "3  1a4y      1      0        3  0.501                              0.0959   \n",
       "4  1a4y      4      0        8  0.690                              0.0959   \n",
       "\n",
       "   Hydrophobicity  Number of electrostatic charge  \\\n",
       "0           -1.76                               1   \n",
       "1           -0.40                               0   \n",
       "2           -0.69                               0   \n",
       "3           -1.76                               1   \n",
       "4           -1.76                               1   \n",
       "\n",
       "   Number of potential hydrogen bonds  Hydrophilicity  Propensity  \\\n",
       "0                                   4            -0.5        0.27   \n",
       "1                                   4            -0.5        0.41   \n",
       "2                                   4             0.2       -0.11   \n",
       "3                                   4            -0.5        0.27   \n",
       "4                                   4            -0.5        0.27   \n",
       "\n",
       "   Isoelectric points  2-class  3-class  \n",
       "0               5.405        1        2  \n",
       "1               5.565        0        0  \n",
       "2               5.650        0        0  \n",
       "3               5.405        0        0  \n",
       "4               5.405        0        0  "
      ]
     },
     "execution_count": 12,
     "metadata": {},
     "output_type": "execute_result"
    }
   ],
   "source": [
    "test = pd.read_excel('Test Set 20.xlsx')\n",
    "test.head()"
   ]
  },
  {
   "cell_type": "code",
   "execution_count": 13,
   "id": "4dd01aa5",
   "metadata": {},
   "outputs": [],
   "source": [
    "X_test = test.iloc[:, 1:12]"
   ]
  },
  {
   "cell_type": "code",
   "execution_count": 14,
   "id": "cb4cfde2",
   "metadata": {},
   "outputs": [],
   "source": [
    "y_test  = test['2-class']"
   ]
  },
  {
   "cell_type": "code",
   "execution_count": 15,
   "id": "99322c03",
   "metadata": {},
   "outputs": [],
   "source": [
    "y_pred = grid_search_xg.predict(X_test)"
   ]
  },
  {
   "cell_type": "code",
   "execution_count": 16,
   "id": "2e2cd2f1",
   "metadata": {},
   "outputs": [
    {
     "data": {
      "text/plain": [
       "array([0, 0, 0, 0, 0, 0, 0, 0, 0, 1, 1, 0, 1, 0, 0, 0, 0, 0, 1, 0, 0, 1,\n",
       "       0, 0, 0, 0, 0, 0, 1, 0, 1, 1, 1, 0, 0, 0, 0, 0, 0, 0, 0, 0, 1, 0,\n",
       "       0, 0, 0, 1, 0, 0, 0, 1, 0, 1, 1, 0, 1, 0, 0, 1, 0, 0, 0, 0, 0, 1,\n",
       "       1, 1, 1, 0, 0, 0, 0, 1, 1, 0, 0, 0, 0, 0, 0, 0, 1, 0, 0, 0, 0, 0,\n",
       "       0, 0, 0, 0, 0, 0, 0, 0, 0, 0, 0, 0, 0, 0, 0, 0, 0, 0, 0, 0, 0, 0,\n",
       "       1, 1, 0, 0, 1, 0, 0, 0, 1, 0, 0, 0, 0, 0, 1, 0, 0, 0, 0, 0, 0, 1,\n",
       "       1, 0, 0, 0, 0, 0, 0, 0, 0, 0, 0, 0, 0, 0, 0, 0, 0, 0, 0, 1, 1, 0,\n",
       "       1, 0, 0, 0, 0, 0, 0, 1])"
      ]
     },
     "execution_count": 16,
     "metadata": {},
     "output_type": "execute_result"
    }
   ],
   "source": [
    "y_pred"
   ]
  },
  {
   "cell_type": "code",
   "execution_count": 17,
   "id": "590152ae",
   "metadata": {},
   "outputs": [
    {
     "data": {
      "text/plain": [
       "0.7283950617283951"
      ]
     },
     "execution_count": 17,
     "metadata": {},
     "output_type": "execute_result"
    }
   ],
   "source": [
    "from sklearn.metrics import accuracy_score\n",
    "accuracy_score(y_test,y_pred)"
   ]
  },
  {
   "cell_type": "code",
   "execution_count": 18,
   "id": "392391d8",
   "metadata": {},
   "outputs": [
    {
     "data": {
      "text/plain": [
       "0.7130656155046399"
      ]
     },
     "execution_count": 18,
     "metadata": {},
     "output_type": "execute_result"
    }
   ],
   "source": [
    "from sklearn.metrics import f1_score\n",
    "f1_score(y_test, y_pred, average='weighted')"
   ]
  },
  {
   "cell_type": "code",
   "execution_count": 25,
   "id": "67084047",
   "metadata": {},
   "outputs": [
    {
     "data": {
      "text/plain": [
       "['NewXGB_2Class.joblib']"
      ]
     },
     "execution_count": 25,
     "metadata": {},
     "output_type": "execute_result"
    }
   ],
   "source": [
    "from joblib import dump, load\n",
    "dump(grid_search_xg, 'NewXGB_2Class.joblib') "
   ]
  },
  {
   "cell_type": "code",
   "execution_count": 20,
   "id": "9609a6e5",
   "metadata": {},
   "outputs": [],
   "source": [
    "grid_search_xg.cv_results_\n",
    "value = 0\n",
    "lst = []\n",
    "for i in range(150):\n",
    "    str_ = \"split{}_test_score\".format(value)\n",
    "    value +=1\n",
    "    val = list(grid_search_xg.cv_results_[str_])\n",
    "    [n_lst] = val\n",
    "    lst.append(n_lst)"
   ]
  },
  {
   "cell_type": "code",
   "execution_count": 21,
   "id": "03ca2ad4",
   "metadata": {},
   "outputs": [],
   "source": [
    "# lst"
   ]
  },
  {
   "cell_type": "code",
   "execution_count": 22,
   "id": "ec45dd08",
   "metadata": {},
   "outputs": [],
   "source": [
    "# a = lst[110:120]\n",
    "# def Average(a):\n",
    "#     return sum(a) / len(a)\n",
    "# avg = Average(a)\n",
    "# avg"
   ]
  },
  {
   "cell_type": "code",
   "execution_count": 23,
   "id": "55319ada",
   "metadata": {},
   "outputs": [],
   "source": [
    "# import numpy as np\n",
    "# lst2 = []\n",
    "# mean_lst = []\n",
    "# val2 = 0\n",
    "# for i in range(150):\n",
    "#     lst2 = lst[val2:val2+10]\n",
    "#     lst_np = np.array(lst2)\n",
    "#     mean_lst.append(np.mean(lst_np))\n",
    "#     val2 +=10\n",
    "    \n",
    "# print(mean_lst)"
   ]
  },
  {
   "cell_type": "code",
   "execution_count": 24,
   "id": "2f67b2c5",
   "metadata": {},
   "outputs": [],
   "source": [
    "# y2_lr = [0.6651685393258426, 0.6594484167517876, 0.6662282941777324, 0.6629724208375893, 0.667364657814096, 0.662985188968335, 0.6673135852911133, 0.6717951991828397, 0.6618360572012258, 0.6664070480081716, 0.6663432073544432, 0.6617722165474975, 0.6696246169560777, 0.6641087844739529, 0.6650536261491318]\n",
    "# y1_xgb =  [0.7104826353421858, 0.7024514811031666, 0.6866700715015321, 0.6878064351378959, 0.6989785495403472, 0.7013534218590398, 0.6888278855975485, 0.693449948927477, 0.7048135852911133, 0.6936414708886619, 0.7116956077630234, 0.7013151174668029, 0.6877681307456588, 0.6866573033707865, 0.6877553626149132]    \n",
    "# y3_mlp =[0.6822139938712973, 0.670773748723187, 0.6843718079673137, 0.6832226762002043, 0.6696118488253319, 0.6788304392236977, 0.6650791624106231, 0.6910240040858018, 0.6741700715015322, 0.6924284984678242, 0.6856741573033708, 0.6832226762002043, 0.6741062308478039, 0.6718462717058222, 0.6821246169560776]\n",
    "# import matplotlib.pyplot as plt\n",
    "# import numpy as np  \n",
    "# # line 1 points\n",
    "# x1 = [1,2,3,4,5,6,7,8,9,10,11,12,13,14,15]\n",
    "\n",
    "# # plotting the line 1 points \n",
    "# plt.plot(x1, y1_xgb, label = \"XGB\")\n",
    "  \n",
    "# # line 2 points\n",
    "# x2 = [1,2,3,4,5,6,7,8,9,10,11,12,13,14,15]\n",
    "# x3 =x2\n",
    "# # plotting the line 2 points \n",
    "# plt.plot(x2, y2_lr, label = \"Logistic Regression\")\n",
    "# plt.plot(x3, y3_mlp, label = \"MLP\")\n",
    "# plt.yticks(np.linspace(0.66,0.71,7))\n",
    "# # naming the x axis\n",
    "# plt.xlabel('N repeats for 10 splits')\n",
    "# # naming the y axis\n",
    "# plt.ylabel('Mean Score for 10 splits')\n",
    "# # giving a title to my graph\n",
    "# #plt.title('Two lines on same graph!')\n",
    "  \n",
    "# # show a legend on the plot\n",
    "# plt.legend(bbox_to_anchor=(1.05, 1.0), loc='best')\n",
    "  \n",
    "# # function to show the plot\n",
    "# plt.show()"
   ]
  }
 ],
 "metadata": {
  "kernelspec": {
   "display_name": "Python 3 (ipykernel)",
   "language": "python",
   "name": "python3"
  },
  "language_info": {
   "codemirror_mode": {
    "name": "ipython",
    "version": 3
   },
   "file_extension": ".py",
   "mimetype": "text/x-python",
   "name": "python",
   "nbconvert_exporter": "python",
   "pygments_lexer": "ipython3",
   "version": "3.11.0"
  }
 },
 "nbformat": 4,
 "nbformat_minor": 5
}
